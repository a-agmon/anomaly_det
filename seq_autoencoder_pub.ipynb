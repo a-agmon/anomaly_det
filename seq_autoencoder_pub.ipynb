{
 "cells": [
  {
   "cell_type": "code",
   "execution_count": 1,
   "metadata": {
    "cell_id": "d45278e5-05ec-4fb7-84d1-7e21630d3a5e"
   },
   "outputs": [
    {
     "name": "stdout",
     "output_type": "stream",
     "text": [
      "Python 3.7.4\r\n"
     ]
    }
   ],
   "source": [
    "!python --version"
   ]
  },
  {
   "cell_type": "code",
   "execution_count": 2,
   "metadata": {
    "cell_id": "0d8c9317-b807-40cc-b550-54dfc0676050"
   },
   "outputs": [
    {
     "name": "stderr",
     "output_type": "stream",
     "text": [
      "Using TensorFlow backend.\n"
     ]
    }
   ],
   "source": [
    "import pandas as pd\n",
    "import numpy as np\n",
    "import matplotlib.pyplot as plt\n",
    "\n",
    "# keras text proc\n",
    "\n",
    "from keras.preprocessing.text import Tokenizer\n",
    "from keras.preprocessing.sequence import pad_sequences\n",
    "\n",
    "#keras ML\n",
    "\n",
    "from keras.models import Model, load_model\n",
    "from keras.layers import Input, Dense, Dropout, LSTM\n",
    "from keras.callbacks import ModelCheckpoint, TensorBoard\n",
    "from keras import regularizers, optimizers\n",
    "\n",
    "#for percentile rank\n",
    "\n",
    "from scipy import stats"
   ]
  },
  {
   "cell_type": "code",
   "execution_count": 4,
   "metadata": {},
   "outputs": [
    {
     "name": "stdout",
     "output_type": "stream",
     "text": [
      "sequences shape:(239626, 2)\n"
     ]
    }
   ],
   "source": [
    "sequences = pd.read_csv('/Users/alonag/XXXXXXXX.tsv', sep='\\t')\n",
    "sequences.columns = ['Original','Clean']\n",
    "print(f'sequences shape:{sequences.shape}')\n",
    "FEAT_FIELD = 'Clean'"
   ]
  },
  {
   "cell_type": "raw",
   "metadata": {},
   "source": [
    "print(f'sample sequences:\\n{sequences.sample(n=10)[FEAT_FIELD]}')\n",
    "\n",
    "==> AB 21 XR GB132\n",
    "==> DF 36 FR GX567"
   ]
  },
  {
   "cell_type": "code",
   "execution_count": 28,
   "metadata": {
    "cell_id": "254775f2-047c-40f9-aa17-a37f36b1abe0",
    "tags": []
   },
   "outputs": [],
   "source": [
    "'''\n",
    "Create Vocabulary \n",
    "'''\n",
    "VOCAB_SIZE = 750\n",
    "# take just the target feature\n",
    "clean_sequences = sequences.loc[:,FEAT_FIELD]\n",
    "# create a tokenizer with 750 'words' - \n",
    "# we will have a number representing each of the top 750 wordsx\n",
    "tokenizer = Tokenizer(num_words=VOCAB_SIZE)\n",
    "# fit the tokenizer on our data\n",
    "tokenizer.fit_on_texts(clean_sequences)\n",
    "\n",
    "dictionary = tokenizer.word_index"
   ]
  },
  {
   "cell_type": "raw",
   "metadata": {},
   "source": [
    "# the 'word' '20' will be replaced with 4\n",
    "print(dictionary.get('20'))\n",
    "# the 'word' 'GB132' will be replaced with 48\n",
    "print(dictionary.get('GB132'))"
   ]
  },
  {
   "cell_type": "raw",
   "metadata": {
    "cell_id": "d12a1bd0-d0d6-402b-b217-5a9f16dbc58b",
    "tags": []
   },
   "source": [
    "seqs = tokenizer.texts_to_sequences(clean_sequences)\n",
    "\n",
    "print(f'Sample line:{clean_sequences[1]}')\n",
    "\n",
    "==> Sample line: DF 36 FR GX567\n",
    "    \n",
    "print(f'Sample line:{tokenizer.texts_to_sequences([clean_sequences[1]])}')\n",
    "\n",
    "==> Sample line:[[1, 4, 31, 22]]"
   ]
  },
  {
   "cell_type": "code",
   "execution_count": 36,
   "metadata": {
    "cell_id": "d12a1bd0-d0d6-402b-b217-5a9f16dbc58b",
    "tags": []
   },
   "outputs": [
    {
     "name": "stdout",
     "output_type": "stream",
     "text": [
      "Some data on our sequences:\n",
      "mean length:4.422625257693238 // q99 len:10.0\n"
     ]
    }
   ],
   "source": [
    "print('Some data on our sequences:')\n",
    "mean_len = np.mean([len(seq) for seq in seqs])\n",
    "q99_len = np.quantile([len(seq) for seq in seqs], 0.99)\n",
    "\n",
    "print(f'mean length:{mean_len} // q99 len:{q99_len}')"
   ]
  },
  {
   "cell_type": "code",
   "execution_count": 38,
   "metadata": {
    "cell_id": "60addb46-7b65-4112-8338-2c51d692e868",
    "tags": []
   },
   "outputs": [
    {
     "name": "stdout",
     "output_type": "stream",
     "text": [
      "Padded seq:[ 1  4 31 22]\n"
     ]
    }
   ],
   "source": [
    "MAX_FEAT_LEN = 4\n",
    "\n",
    "pad_seqs = pad_sequences(seqs, maxlen=MAX_FEAT_LEN, padding='post', truncating='post')\n",
    "print(f'Padded seq:{pad_seqs[1]}')"
   ]
  },
  {
   "cell_type": "code",
   "execution_count": 39,
   "metadata": {
    "cell_id": "93418947-338e-4058-a14f-53e23d3a57d6",
    "tags": []
   },
   "outputs": [
    {
     "name": "stdout",
     "output_type": "stream",
     "text": [
      "[0. 1. 0. 0. 1. 0. 0. 0. 0. 0. 0. 0. 0. 0. 0. 0. 0. 0. 0. 0. 0. 0. 1. 0.\n",
      " 0. 0. 0. 0. 0. 0. 0. 1. 0. 0. 0. 0. 0. 0. 0. 0. 0. 0. 0. 0. 0. 0. 0. 0.\n",
      " 0. 0. 0. 0. 0. 0. 0. 0. 0. 0. 0. 0. 0. 0. 0. 0. 0. 0. 0. 0. 0. 0. 0. 0.\n",
      " 0. 0. 0. 0. 0. 0. 0. 0. 0. 0. 0. 0. 0. 0. 0. 0. 0. 0. 0. 0. 0. 0. 0. 0.\n",
      " 0. 0. 0. 0. 0. 0. 0. 0. 0. 0. 0. 0. 0. 0. 0. 0. 0. 0. 0. 0. 0. 0. 0. 0.\n",
      " 0. 0. 0. 0. 0. 0. 0. 0. 0. 0. 0. 0. 0. 0. 0. 0. 0. 0. 0. 0. 0. 0. 0. 0.\n",
      " 0. 0. 0. 0. 0. 0. 0. 0. 0. 0. 0. 0. 0. 0. 0. 0. 0. 0. 0. 0. 0. 0. 0. 0.\n",
      " 0. 0. 0. 0. 0. 0. 0. 0. 0. 0. 0. 0. 0. 0. 0. 0. 0. 0. 0. 0. 0. 0. 0. 0.\n",
      " 0. 0. 0. 0. 0. 0. 0. 0. 0. 0. 0. 0. 0. 0. 0. 0. 0. 0. 0. 0. 0. 0. 0. 0.\n",
      " 0. 0. 0. 0. 0. 0. 0. 0. 0. 0. 0. 0. 0. 0. 0. 0. 0. 0. 0. 0. 0. 0. 0. 0.\n",
      " 0. 0. 0. 0. 0. 0. 0. 0. 0. 0. 0. 0. 0. 0. 0. 0. 0. 0. 0. 0. 0. 0. 0. 0.\n",
      " 0. 0. 0. 0. 0. 0. 0. 0. 0. 0. 0. 0. 0. 0. 0. 0. 0. 0. 0. 0. 0. 0. 0. 0.\n",
      " 0. 0. 0. 0. 0. 0. 0. 0. 0. 0. 0. 0. 0. 0. 0. 0. 0. 0. 0. 0. 0. 0. 0. 0.\n",
      " 0. 0. 0. 0. 0. 0. 0. 0. 0. 0. 0. 0. 0. 0. 0. 0. 0. 0. 0. 0. 0. 0. 0. 0.\n",
      " 0. 0. 0. 0. 0. 0. 0. 0. 0. 0. 0. 0. 0. 0. 0. 0. 0. 0. 0. 0. 0. 0. 0. 0.\n",
      " 0. 0. 0. 0. 0. 0. 0. 0. 0. 0. 0. 0. 0. 0. 0. 0. 0. 0. 0. 0. 0. 0. 0. 0.\n",
      " 0. 0. 0. 0. 0. 0. 0. 0. 0. 0. 0. 0. 0. 0. 0. 0. 0. 0. 0. 0. 0. 0. 0. 0.\n",
      " 0. 0. 0. 0. 0. 0. 0. 0. 0. 0. 0. 0. 0. 0. 0. 0. 0. 0. 0. 0. 0. 0. 0. 0.\n",
      " 0. 0. 0. 0. 0. 0. 0. 0. 0. 0. 0. 0. 0. 0. 0. 0. 0. 0. 0. 0. 0. 0. 0. 0.\n",
      " 0. 0. 0. 0. 0. 0. 0. 0. 0. 0. 0. 0. 0. 0. 0. 0. 0. 0. 0. 0. 0. 0. 0. 0.\n",
      " 0. 0. 0. 0. 0. 0. 0. 0. 0. 0. 0. 0. 0. 0. 0. 0. 0. 0. 0. 0. 0. 0. 0. 0.\n",
      " 0. 0. 0. 0. 0. 0. 0. 0. 0. 0. 0. 0. 0. 0. 0. 0. 0. 0. 0. 0. 0. 0. 0. 0.\n",
      " 0. 0. 0. 0. 0. 0. 0. 0. 0. 0. 0. 0. 0. 0. 0. 0. 0. 0. 0. 0. 0. 0. 0. 0.\n",
      " 0. 0. 0. 0. 0. 0. 0. 0. 0. 0. 0. 0. 0. 0. 0. 0. 0. 0. 0. 0. 0. 0. 0. 0.\n",
      " 0. 0. 0. 0. 0. 0. 0. 0. 0. 0. 0. 0. 0. 0. 0. 0. 0. 0. 0. 0. 0. 0. 0. 0.\n",
      " 0. 0. 0. 0. 0. 0. 0. 0. 0. 0. 0. 0. 0. 0. 0. 0. 0. 0. 0. 0. 0. 0. 0. 0.\n",
      " 0. 0. 0. 0. 0. 0. 0. 0. 0. 0. 0. 0. 0. 0. 0. 0. 0. 0. 0. 0. 0. 0. 0. 0.\n",
      " 0. 0. 0. 0. 0. 0. 0. 0. 0. 0. 0. 0. 0. 0. 0. 0. 0. 0. 0. 0. 0. 0. 0. 0.\n",
      " 0. 0. 0. 0. 0. 0. 0. 0. 0. 0. 0. 0. 0. 0. 0. 0. 0. 0. 0. 0. 0. 0. 0. 0.\n",
      " 0. 0. 0. 0. 0. 0. 0. 0. 0. 0. 0. 0. 0. 0. 0. 0. 0. 0. 0. 0. 0. 0. 0. 0.\n",
      " 0. 0. 0. 0. 0. 0. 0. 0. 0. 0. 0. 0. 0. 0. 0. 0. 0. 0. 0. 0. 0. 0. 0. 0.\n",
      " 0. 0. 0. 0. 0. 0.]\n"
     ]
    }
   ],
   "source": [
    "'''\n",
    "We create a vector from each \"sentence\" which has a feature for every possible word in our dictionary\n",
    "'''\n",
    "def vectorize_sequences(sequences, dimension):\n",
    "    results = np.zeros((len(sequences), dimension))\n",
    "    for i, sequence in enumerate(sequences):\n",
    "        results[i, sequence] = 1.   \n",
    "    return results\n",
    "\n",
    "vec_seqs = vectorize_sequences(pad_seqs, VOCAB_SIZE)\n",
    "print(vec_seqs[1])"
   ]
  },
  {
   "cell_type": "code",
   "execution_count": 40,
   "metadata": {
    "cell_id": "cb801a22-51dd-406a-a283-55f0159d728a",
    "tags": []
   },
   "outputs": [
    {
     "name": "stdout",
     "output_type": "stream",
     "text": [
      "(179719, 750)\n"
     ]
    }
   ],
   "source": [
    "TRAIN_RATIO = 0.75\n",
    "\n",
    "train_size = int(len(vec_seqs) * TRAIN_RATIO)\n",
    "X_train = vec_seqs[:train_size]\n",
    "X_test = vec_seqs[train_size:]\n",
    "\n",
    "print(X_train.shape)"
   ]
  },
  {
   "cell_type": "code",
   "execution_count": 41,
   "metadata": {},
   "outputs": [
    {
     "name": "stdout",
     "output_type": "stream",
     "text": [
      "Model: \"model_1\"\n",
      "_________________________________________________________________\n",
      "Layer (type)                 Output Shape              Param #   \n",
      "=================================================================\n",
      "input_1 (InputLayer)         (None, 750)               0         \n",
      "_________________________________________________________________\n",
      "dense_1 (Dense)              (None, 32)                24032     \n",
      "_________________________________________________________________\n",
      "dense_2 (Dense)              (None, 750)               24750     \n",
      "=================================================================\n",
      "Total params: 48,782\n",
      "Trainable params: 48,782\n",
      "Non-trainable params: 0\n",
      "_________________________________________________________________\n"
     ]
    }
   ],
   "source": [
    "input_dim = X_train.shape[1] #features num\n",
    "encoding_dim = 32\n",
    "\n",
    "nb_epoch = 3\n",
    "batch_size = 128\n",
    "learning_rate = 1e-2\n",
    "\n",
    "input_layer = Input(shape=(input_dim,))\n",
    "encoder = Dense(encoding_dim, activation=\"relu\", activity_regularizer=regularizers.l1(learning_rate))(input_layer)\n",
    "decoder = Dense(input_dim, activation=\"relu\")(encoder)\n",
    "autoencoder = Model(inputs=input_layer, outputs=decoder)\n",
    "autoencoder.summary()"
   ]
  },
  {
   "cell_type": "code",
   "execution_count": 42,
   "metadata": {
    "cell_id": "ba0b2a8b-598d-4552-b62e-cecb36f3864c",
    "tags": []
   },
   "outputs": [
    {
     "name": "stdout",
     "output_type": "stream",
     "text": [
      "Train on 179719 samples, validate on 59907 samples\n",
      "Epoch 1/3\n",
      "179719/179719 [==============================] - 7s 38us/step - loss: 0.0056 - accuracy: 0.9274 - val_loss: 0.0032 - val_accuracy: 0.9300\n",
      "Epoch 2/3\n",
      "179719/179719 [==============================] - 5s 29us/step - loss: 0.0032 - accuracy: 0.9303 - val_loss: 0.0032 - val_accuracy: 0.9300\n",
      "Epoch 3/3\n",
      "179719/179719 [==============================] - 5s 29us/step - loss: 0.0032 - accuracy: 0.9303 - val_loss: 0.0032 - val_accuracy: 0.9300\n"
     ]
    }
   ],
   "source": [
    "optimizer = optimizers.Adam(lr=1e-2)\n",
    "\n",
    "autoencoder.compile(optimizer=optimizer, \n",
    "                    loss='mean_squared_error', \n",
    "                    metrics=['accuracy'])\n",
    "\n",
    "checkpointer = ModelCheckpoint(filepath=\"model_bin.h5\",\n",
    "                               verbose=0,\n",
    "                               save_best_only=True)\n",
    "\n",
    "tensorboard = TensorBoard(log_dir='./logs',\n",
    "                          histogram_freq=0,\n",
    "                          write_graph=True,\n",
    "                          write_images=True)\n",
    "\n",
    "history = autoencoder.fit(X_train, X_train,\n",
    "                    epochs=nb_epoch,\n",
    "                    batch_size=batch_size,\n",
    "                    shuffle=True,\n",
    "                    validation_data=(X_test, X_test),\n",
    "                    verbose=1,\n",
    "                    callbacks=[checkpointer, tensorboard]).history"
   ]
  },
  {
   "cell_type": "code",
   "execution_count": 43,
   "metadata": {
    "cell_id": "99397736-2563-4e20-8856-4d8b0fc342f6",
    "tags": []
   },
   "outputs": [
    {
     "name": "stdout",
     "output_type": "stream",
     "text": [
      "Max Accuracy:0.9302911758422852\n",
      "Max Validation Accuracy:0.9300415515899658\n",
      "Min Loss:0.003206325415984104\n",
      "Min Validation Loss:0.0032108959238024504\n"
     ]
    }
   ],
   "source": [
    "autoencoder = load_model('model_bin.h5')\n",
    "print(f'Max Accuracy:{np.max(history[\"accuracy\"])}')\n",
    "print(f'Max Validation Accuracy:{np.max(history[\"val_accuracy\"])}')\n",
    "print(f'Min Loss:{np.min(history[\"loss\"])}')\n",
    "print(f'Min Validation Loss:{np.min(history[\"val_loss\"])}')"
   ]
  },
  {
   "cell_type": "code",
   "execution_count": 44,
   "metadata": {
    "cell_id": "65d862fe-2545-4803-b9f4-5ad32d2f8194",
    "tags": []
   },
   "outputs": [
    {
     "data": {
      "image/png": "[encoded data removed]",
      "text/plain": [
       "<Figure size 432x288 with 1 Axes>"
      ]
     },
     "metadata": {
      "needs_background": "light"
     },
     "output_type": "display_data"
    },
    {
     "data": {
      "image/png": "[encoded data removed]",
      "text/plain": [
       "<Figure size 432x288 with 1 Axes>"
      ]
     },
     "metadata": {
      "needs_background": "light"
     },
     "output_type": "display_data"
    }
   ],
   "source": [
    "plt.plot(history['loss'])\n",
    "plt.plot(history['val_loss'])\n",
    "plt.title('model loss')\n",
    "plt.ylabel('loss')\n",
    "plt.xlabel('epoch')\n",
    "plt.legend(['train', 'test'], loc='upper right');\n",
    "plt.show()\n",
    "plt.plot(history['accuracy'])\n",
    "plt.plot(history['val_accuracy'])\n",
    "plt.title('model accuracy')\n",
    "plt.ylabel('accuracy')\n",
    "plt.xlabel('epoch')\n",
    "plt.legend(['train', 'test'], loc='upper right');"
   ]
  },
  {
   "cell_type": "code",
   "execution_count": 46,
   "metadata": {
    "cell_id": "a8cfa05e-a40f-4035-972e-d9f1ca993038",
    "tags": []
   },
   "outputs": [],
   "source": [
    "#get the MSE or loss error term\n",
    "predictions = autoencoder.predict(vec_seqs)\n",
    "mse = np.mean(np.power(vec_seqs - predictions, 2), axis=1)\n",
    "sequences['MSE'] = mse"
   ]
  },
  {
   "cell_type": "code",
   "execution_count": 47,
   "metadata": {
    "cell_id": "a8cfa05e-a40f-4035-972e-d9f1ca993038",
    "tags": []
   },
   "outputs": [
    {
     "name": "stdout",
     "output_type": "stream",
     "text": [
      "Loss 0.99: 0.006814774048282952\n",
      "Loss 0.95: 0.006814774048282952\n",
      "Loss 0.9: 0.004837478887989374\n",
      "Loss 0.85: 0.003983701459521305\n",
      "Loss 0.75: 0.0034686230937185404\n",
      "Loss 0.5: 0.0032364443758669016\n"
     ]
    }
   ],
   "source": [
    "print('Loss 0.99:', np.quantile(mse, 0.99)) # => the 99% quatile - only 1% have error score higher than that\n",
    "print('Loss 0.95:', np.quantile(mse, 0.95)) \n",
    "print('Loss 0.9:', np.quantile(mse, 0.9)) \n",
    "print('Loss 0.85:', np.quantile(mse, 0.85)) \n",
    "print('Loss 0.75:', np.quantile(mse, 0.75)) \n",
    "print('Loss 0.5:', np.quantile(mse, 0.5)) "
   ]
  },
  {
   "cell_type": "code",
   "execution_count": 49,
   "metadata": {},
   "outputs": [
    {
     "name": "stdout",
     "output_type": "stream",
     "text": [
      "Anomaly Score:[0.00346862], Percentile Rank:73.85446487442933\n",
      "Anomaly Score:[0.0022789], Percentile Rank:26.15471609925467\n"
     ]
    }
   ],
   "source": [
    "\n",
    "def get_sequence_anomaly_rank(seq_a):\n",
    "    \n",
    "    t_vec = tokenizer.texts_to_sequences([seq_a])\n",
    "    \n",
    "    pad_seq = pad_sequences(t_vec, maxlen=MAX_FEAT_LEN, padding='post', truncating='post')\n",
    "    vec_seq = vectorize_sequences(pad_seq, VOCAB_SIZE)\n",
    "    pred_seq = autoencoder.predict(vec_seq)\n",
    "    # get anomaly score\n",
    "    score = np.mean(np.power(vec_seq - pred_seq, 2), axis=1)\n",
    "    # get anomaly rank\n",
    "    rank =  stats.percentileofscore(mse, score)\n",
    "    return score, rank\n",
    "\n",
    "score, rank = get_sequence_anomaly_rank('9 20 649 20E04504A')\n",
    "print(f'Anomaly Score:{score}, Percentile Rank:{rank}')\n",
    "\n",
    "score, rank = get_sequence_anomaly_rank('9 30 399 30E04170A')\n",
    "print(f'Anomaly Score:{score}, Percentile Rank:{rank}')\n"
   ]
  },
  {
   "cell_type": "code",
   "execution_count": null,
   "metadata": {},
   "outputs": [],
   "source": [
    "def calculate_anomaly_score(df, seq_feat_name, freq_feat_name):\n",
    "    \n",
    "    tokenized_seq = tokenizer.texts_to_sequences(df[seq_feat_name].values)\n",
    "    pad_seq = pad_sequences(tokenized_seq, maxlen=MAX_FEAT_LEN, padding='post', truncating='post')\n",
    "    vec_seq = vectorize_sequences(pad_seq, VOCAB_SIZE)\n",
    "    pred_seq = autoencoder.predict(vec_seq)\n",
    "    dist = np.mean(np.power(vec_seq - pred_seq, 2), axis=1)\n",
    "    df['dist'] = dist\n",
    "    df['w_score'] = df[freq_feat_name] * df['dist']\n",
    "    sum_score = df['w_score'].sum() / df[freq_feat_name].sum()\n",
    "    return sum_score, df"
   ]
  }
 ],
 "metadata": {
  "deepnote_execution_queue": [
   {
    "cellId": "ba0b2a8b-598d-4552-b62e-cecb36f3864c",
    "msgId": "8f542232-ddd0-4bca-bfee-fa34a2a99cf8",
    "sessionId": "2c485367-e858-44c0-9d47-1493f061e452"
   }
  ],
  "deepnote_notebook_id": "bde5a98f-8287-4c50-aa80-3771b6382030",
  "kernelspec": {
   "display_name": "Python 3",
   "language": "python",
   "name": "python3"
  },
  "language_info": {
   "codemirror_mode": {
    "name": "ipython",
    "version": 3
   },
   "file_extension": ".py",
   "mimetype": "text/x-python",
   "name": "python",
   "nbconvert_exporter": "python",
   "pygments_lexer": "ipython3",
   "version": "3.7.4"
  }
 },
 "nbformat": 4,
 "nbformat_minor": 2
}
