{
  "nbformat": 4,
  "nbformat_minor": 0,
  "metadata": {
    "colab": {
      "name": "engagers_trans.ipynb",
      "provenance": [],
      "collapsed_sections": [],
      "authorship_tag": "ABX9TyOi6x6z/VUYbSg9iqeFc83D",
      "include_colab_link": true
    },
    "kernelspec": {
      "name": "python3",
      "display_name": "Python 3"
    },
    "language_info": {
      "name": "python"
    },
    "accelerator": "GPU"
  },
  "cells": [
    {
      "cell_type": "markdown",
      "metadata": {
        "id": "view-in-github",
        "colab_type": "text"
      },
      "source": [
        "<a href=\"https://colab.research.google.com/github/a-agmon/anomaly_det/blob/master/engagers_trans.ipynb\" target=\"_parent\"><img src=\"https://colab.research.google.com/assets/colab-badge.svg\" alt=\"Open In Colab\"/></a>"
      ]
    },
    {
      "cell_type": "code",
      "metadata": {
        "colab": {
          "base_uri": "https://localhost:8080/"
        },
        "id": "jxS8NK1BK9uo",
        "outputId": "be1fe75f-40f2-4479-b322-bc0864321918"
      },
      "source": [
        "from google.colab import drive\n",
        "drive.mount('/content/drive')"
      ],
      "execution_count": null,
      "outputs": [
        {
          "output_type": "stream",
          "name": "stdout",
          "text": [
            "Mounted at /content/drive\n"
          ]
        }
      ]
    },
    {
      "cell_type": "code",
      "metadata": {
        "colab": {
          "base_uri": "https://localhost:8080/"
        },
        "id": "KjFzQQfRLKDq",
        "outputId": "cca1824d-f7fc-4072-c927-ccc796142dc9"
      },
      "source": [
        "!ls '/content/drive/MyDrive/engagers'"
      ],
      "execution_count": null,
      "outputs": [
        {
          "output_type": "stream",
          "name": "stdout",
          "text": [
            "engag_content_oct.csv  tmp\n"
          ]
        }
      ]
    },
    {
      "cell_type": "code",
      "metadata": {
        "id": "2y9MR7WgLRVw"
      },
      "source": [
        "#!gunzip '/content/drive/MyDrive/engagers/engag_content_oct.csv.gz'"
      ],
      "execution_count": null,
      "outputs": []
    },
    {
      "cell_type": "code",
      "metadata": {
        "colab": {
          "base_uri": "https://localhost:8080/"
        },
        "id": "tFbC3zW8JsZb",
        "outputId": "9e42951f-475c-411e-a7fd-e557533f5a3f"
      },
      "source": [
        "!ls '/content/drive/MyDrive/engagers'"
      ],
      "execution_count": null,
      "outputs": [
        {
          "output_type": "stream",
          "name": "stdout",
          "text": [
            "engag_content_oct.csv  tmp\n"
          ]
        }
      ]
    },
    {
      "cell_type": "code",
      "metadata": {
        "id": "DHDOQrBrJ2BG"
      },
      "source": [
        "import numpy as np\n",
        "import pandas as pd\n",
        "import matplotlib.pyplot as plt\n",
        "from scipy import stats\n",
        "import tensorflow as tf\n",
        "from tensorflow import keras\n",
        "from tensorflow.keras import layers\n",
        "\n",
        "#from keras.layers import Dense, Input, LSTM, Embedding, Dropout, Activation, GRU, Conv1D\n",
        "#from keras.layers import Bidirectional, GlobalMaxPool1D\n",
        "from keras.preprocessing.text import Tokenizer\n",
        "from keras.preprocessing.sequence import pad_sequences\n",
        "#from keras.models import Model\n",
        "#from keras import backend as K\n",
        "from sklearn.model_selection import train_test_split\n",
        "\n",
        "#from tensorflow.keras.layers import Layer"
      ],
      "execution_count": null,
      "outputs": []
    },
    {
      "cell_type": "code",
      "metadata": {
        "id": "e66wF94TLMsL"
      },
      "source": [
        "df = pd.read_csv('/content/drive/MyDrive/engagers/engag_content_oct.csv')\n"
      ],
      "execution_count": null,
      "outputs": []
    },
    {
      "cell_type": "code",
      "metadata": {
        "colab": {
          "base_uri": "https://localhost:8080/",
          "height": 206
        },
        "id": "3hEPq5lOLcf3",
        "outputId": "febaaafd-33ef-425e-8f59-00bc9d3098b4"
      },
      "source": [
        "df.columns = ['hh', 'content', 'duration_hours', 'active_days', 'count' , 'linear_duration_freq']\n",
        "df.head()"
      ],
      "execution_count": null,
      "outputs": [
        {
          "output_type": "execute_result",
          "data": {
            "text/html": [
              "<div>\n",
              "<style scoped>\n",
              "    .dataframe tbody tr th:only-of-type {\n",
              "        vertical-align: middle;\n",
              "    }\n",
              "\n",
              "    .dataframe tbody tr th {\n",
              "        vertical-align: top;\n",
              "    }\n",
              "\n",
              "    .dataframe thead th {\n",
              "        text-align: right;\n",
              "    }\n",
              "</style>\n",
              "<table border=\"1\" class=\"dataframe\">\n",
              "  <thead>\n",
              "    <tr style=\"text-align: right;\">\n",
              "      <th></th>\n",
              "      <th>hh</th>\n",
              "      <th>content</th>\n",
              "      <th>duration_hours</th>\n",
              "      <th>active_days</th>\n",
              "      <th>count</th>\n",
              "      <th>linear_duration_freq</th>\n",
              "    </tr>\n",
              "  </thead>\n",
              "  <tbody>\n",
              "    <tr>\n",
              "      <th>0</th>\n",
              "      <td>1001654</td>\n",
              "      <td>{[ השושלת  [B]  (V)],[ חמש עם רפי רשף (L)],[ א...</td>\n",
              "      <td>335.188611</td>\n",
              "      <td>14</td>\n",
              "      <td>125</td>\n",
              "      <td>0.488763</td>\n",
              "    </tr>\n",
              "    <tr>\n",
              "      <th>1</th>\n",
              "      <td>1002762</td>\n",
              "      <td>{[ מלכת היופי של ירושלים  [B]  (V)],[ Xמן הפני...</td>\n",
              "      <td>23.245000</td>\n",
              "      <td>10</td>\n",
              "      <td>28</td>\n",
              "      <td>0.419314</td>\n",
              "    </tr>\n",
              "    <tr>\n",
              "      <th>2</th>\n",
              "      <td>1002771</td>\n",
              "      <td>{[ מאסטר שף  האגדות חדש  [B]  (L)],[ מטבחי הגי...</td>\n",
              "      <td>31.168611</td>\n",
              "      <td>14</td>\n",
              "      <td>37</td>\n",
              "      <td>0.847567</td>\n",
              "    </tr>\n",
              "    <tr>\n",
              "      <th>3</th>\n",
              "      <td>1003423</td>\n",
              "      <td>{[ שישי עם אילה חסון (L)],[ המקור  [B]  (L)],[...</td>\n",
              "      <td>2.132778</td>\n",
              "      <td>2</td>\n",
              "      <td>3</td>\n",
              "      <td>1.000000</td>\n",
              "    </tr>\n",
              "    <tr>\n",
              "      <th>4</th>\n",
              "      <td>1007760</td>\n",
              "      <td>{[ עבודה חלומית (V)],[ המאסטרים של בתי העץ   [...</td>\n",
              "      <td>132.660556</td>\n",
              "      <td>11</td>\n",
              "      <td>101</td>\n",
              "      <td>0.478843</td>\n",
              "    </tr>\n",
              "  </tbody>\n",
              "</table>\n",
              "</div>"
            ],
            "text/plain": [
              "        hh  ... linear_duration_freq\n",
              "0  1001654  ...             0.488763\n",
              "1  1002762  ...             0.419314\n",
              "2  1002771  ...             0.847567\n",
              "3  1003423  ...             1.000000\n",
              "4  1007760  ...             0.478843\n",
              "\n",
              "[5 rows x 6 columns]"
            ]
          },
          "metadata": {},
          "execution_count": 7
        }
      ]
    },
    {
      "cell_type": "code",
      "metadata": {
        "colab": {
          "base_uri": "https://localhost:8080/"
        },
        "id": "b8jtUiFlMJbE",
        "outputId": "2c704b6f-814a-4ebe-b57f-f0f9616d3172"
      },
      "source": [
        "df.iloc[158, 1].split(',')[:5]"
      ],
      "execution_count": null,
      "outputs": [
        {
          "output_type": "execute_result",
          "data": {
            "text/plain": [
              "['{[ הרעשנים   [B]  (V)]',\n",
              " '[ ישיר מ תא  הכוכב האדום (L)]',\n",
              " '[ חדשות סוף השבוע עם דנה ויס (L)]',\n",
              " '[ פגוש את העיתונות (L)]',\n",
              " '[ הרעשנים   [B]  (V)]}']"
            ]
          },
          "metadata": {},
          "execution_count": 8
        }
      ]
    },
    {
      "cell_type": "code",
      "metadata": {
        "id": "Lcp0C5i6MPCh"
      },
      "source": [
        "# extract words to embed from each HH\n",
        "progs_per_HH = [\n",
        "    df.loc[rid, 'content'][1:-1].split(',')\n",
        "    for rid in df.index\n",
        "]"
      ],
      "execution_count": null,
      "outputs": []
    },
    {
      "cell_type": "code",
      "metadata": {
        "colab": {
          "base_uri": "https://localhost:8080/"
        },
        "id": "HoRmKNaKMRnD",
        "outputId": "4e7ad635-e047-485e-d758-d14b1f77840b"
      },
      "source": [
        "np.median([len(history) for history in progs_per_HH])"
      ],
      "execution_count": null,
      "outputs": [
        {
          "output_type": "execute_result",
          "data": {
            "text/plain": [
              "86.0"
            ]
          },
          "metadata": {},
          "execution_count": 10
        }
      ]
    },
    {
      "cell_type": "code",
      "metadata": {
        "id": "iZ7T3V0KMVEI"
      },
      "source": [
        "train_df, test_df = train_test_split(df, test_size=0.10, random_state=123)"
      ],
      "execution_count": null,
      "outputs": []
    },
    {
      "cell_type": "code",
      "metadata": {
        "id": "HYlKvkKrMW7Y"
      },
      "source": [
        "embed_size = 256\n",
        "max_features = 10000 # vocab size\n",
        "maxlen = 85 # max number of words in a question to use\n",
        "num_heads = 2\n",
        "dense_dim = 32"
      ],
      "execution_count": null,
      "outputs": []
    },
    {
      "cell_type": "code",
      "metadata": {
        "id": "PwrqE1kCM0xR"
      },
      "source": [
        "tokenizer = Tokenizer(num_words=max_features, filters='{}', split=',')"
      ],
      "execution_count": null,
      "outputs": []
    },
    {
      "cell_type": "code",
      "metadata": {
        "id": "FEeljfZ7M2zo"
      },
      "source": [
        "tokenizer.fit_on_texts(np.array(progs_per_HH, dtype=object)[train_df.index.values])"
      ],
      "execution_count": null,
      "outputs": []
    },
    {
      "cell_type": "code",
      "metadata": {
        "id": "kbjoKiD6M405"
      },
      "source": [
        "X_train_raw = tokenizer.texts_to_sequences(np.array(progs_per_HH, dtype=object)[train_df.index.values])\n",
        "X_test_raw = tokenizer.texts_to_sequences(np.array(progs_per_HH, dtype=object)[test_df.index.values])"
      ],
      "execution_count": null,
      "outputs": []
    },
    {
      "cell_type": "code",
      "metadata": {
        "id": "pOBaJklvM9y7"
      },
      "source": [
        "X_train = pad_sequences(X_train_raw, maxlen=maxlen)\n",
        "X_test = pad_sequences(X_test_raw, maxlen=maxlen)"
      ],
      "execution_count": null,
      "outputs": []
    },
    {
      "cell_type": "code",
      "metadata": {
        "id": "ffNW8daPN7KT"
      },
      "source": [
        "durations = df.duration_hours.values"
      ],
      "execution_count": null,
      "outputs": []
    },
    {
      "cell_type": "code",
      "metadata": {
        "id": "Q8iHzMB20qtH"
      },
      "source": [
        "y = np.log(durations)"
      ],
      "execution_count": null,
      "outputs": []
    },
    {
      "cell_type": "code",
      "metadata": {
        "colab": {
          "base_uri": "https://localhost:8080/"
        },
        "id": "xQ8VhIkE0woo",
        "outputId": "22149b87-5051-4753-b8e1-254142f5e77f"
      },
      "source": [
        "print('mean:', np.mean(y))\n",
        "print('median:', np.mean(y))\n",
        "print('std:', np.std(y))"
      ],
      "execution_count": null,
      "outputs": [
        {
          "output_type": "stream",
          "name": "stdout",
          "text": [
            "mean: 3.6817992172575322\n",
            "median: 3.6817992172575322\n",
            "std: 1.4373146839839472\n"
          ]
        }
      ]
    },
    {
      "cell_type": "code",
      "metadata": {
        "id": "OCVH9jCTNDNf"
      },
      "source": [
        "\n",
        "bins = np.array([\n",
        "    0.0,\n",
        "    np.quantile(durations, .25),\n",
        "    np.quantile(durations, .50),\n",
        "    np.quantile(durations, .75)\n",
        "])\n",
        "y =  np.digitize(durations, bins)"
      ],
      "execution_count": null,
      "outputs": []
    },
    {
      "cell_type": "code",
      "metadata": {
        "id": "wm6R35KRNF4j"
      },
      "source": [
        "# if we want to make multiclass\n",
        "from keras.utils.np_utils import to_categorical\n",
        "\n",
        "y = to_categorical(y)"
      ],
      "execution_count": null,
      "outputs": []
    },
    {
      "cell_type": "code",
      "metadata": {
        "id": "oUDsRRDbet8W"
      },
      "source": [
        "# here we will make this task a regression task\n",
        "\n",
        "y = stats.zscore(durations, nan_policy='omit')"
      ],
      "execution_count": null,
      "outputs": []
    },
    {
      "cell_type": "code",
      "metadata": {
        "id": "yCKKno4XNIK0"
      },
      "source": [
        "y_train = y[train_df.index.values]\n",
        "y_val = y[test_df.index.values]"
      ],
      "execution_count": null,
      "outputs": []
    },
    {
      "cell_type": "code",
      "metadata": {
        "id": "iiJT2sWkN_M1"
      },
      "source": [
        "class TransformerEncoder(layers.Layer):\n",
        "    def __init__(self, embed_dim, dense_dim, num_heads, **kwargs):\n",
        "        super().__init__(**kwargs)\n",
        "        self.embed_dim = embed_dim\n",
        "        self.dense_dim = dense_dim\n",
        "        self.num_heads = num_heads\n",
        "        self.attention = layers.MultiHeadAttention(\n",
        "            num_heads=num_heads, key_dim=embed_dim)\n",
        "        self.dense_proj = keras.Sequential(\n",
        "            [layers.Dense(dense_dim, activation=\"relu\"),\n",
        "             layers.Dense(embed_dim),]\n",
        "        )\n",
        "        self.layernorm_1 = layers.LayerNormalization()\n",
        "        self.layernorm_2 = layers.LayerNormalization()\n",
        "\n",
        "    def call(self, inputs, mask=None):\n",
        "        if mask is not None:\n",
        "            mask = mask[:, tf.newaxis, :]\n",
        "        attention_output = self.attention(\n",
        "            inputs, inputs, attention_mask=mask)\n",
        "        proj_input = self.layernorm_1(inputs + attention_output)\n",
        "        proj_output = self.dense_proj(proj_input)\n",
        "        return self.layernorm_2(proj_input + proj_output)\n",
        "\n",
        "    def get_config(self):\n",
        "        config = super().get_config()\n",
        "        config.update({\n",
        "            \"embed_dim\": self.embed_dim,\n",
        "            \"num_heads\": self.num_heads,\n",
        "            \"dense_dim\": self.dense_dim,\n",
        "        })\n",
        "        return config"
      ],
      "execution_count": null,
      "outputs": []
    },
    {
      "cell_type": "code",
      "metadata": {
        "id": "_IyLDDDzV7yl"
      },
      "source": [
        "class PositionalEmbedding(layers.Layer):\n",
        "    def __init__(self, sequence_length, input_dim, output_dim, **kwargs):\n",
        "        super().__init__(**kwargs)\n",
        "        self.token_embeddings = layers.Embedding(\n",
        "            input_dim=input_dim, output_dim=output_dim)\n",
        "        self.position_embeddings = layers.Embedding(\n",
        "            input_dim=sequence_length, output_dim=output_dim)\n",
        "        self.sequence_length = sequence_length\n",
        "        self.input_dim = input_dim\n",
        "        self.output_dim = output_dim\n",
        "\n",
        "    def call(self, inputs):\n",
        "        length = tf.shape(inputs)[-1]\n",
        "        positions = tf.range(start=0, limit=length, delta=1)\n",
        "        embedded_tokens = self.token_embeddings(inputs)\n",
        "        embedded_positions = self.position_embeddings(positions)\n",
        "        return embedded_tokens + embedded_positions\n",
        "\n",
        "    def compute_mask(self, inputs, mask=None):\n",
        "        return tf.math.not_equal(inputs, 0)\n",
        "\n",
        "    def get_config(self):\n",
        "        config = super().get_config()\n",
        "        config.update({\n",
        "            \"output_dim\": self.output_dim,\n",
        "            \"sequence_length\": self.sequence_length,\n",
        "            \"input_dim\": self.input_dim,\n",
        "        })\n",
        "        return config"
      ],
      "execution_count": null,
      "outputs": []
    },
    {
      "cell_type": "code",
      "metadata": {
        "colab": {
          "base_uri": "https://localhost:8080/"
        },
        "id": "a6Y-1nsDWFCP",
        "outputId": "e98b8b58-1f5c-48c4-8d26-9a4c86431c3a"
      },
      "source": [
        "inputs = keras.Input(shape=(None,), dtype=\"int64\")\n",
        "x = PositionalEmbedding(maxlen, max_features, embed_size)(inputs)\n",
        "x = TransformerEncoder(embed_size, dense_dim, num_heads)(x)\n",
        "x = layers.GlobalMaxPooling1D()(x)\n",
        "x = layers.Dropout(0.5)(x)\n",
        "outputs = layers.Dense(1)(x)\n",
        "model = keras.Model(inputs, outputs)\n",
        "model.compile(optimizer=\"adam\",\n",
        "              loss=\"mse\",\n",
        "              metrics=[\"mse\"])\n",
        "model.summary()\n",
        "\n",
        "callbacks = [\n",
        "    keras.callbacks.ModelCheckpoint(\"full_transformer_encoder_reglog.keras\",\n",
        "                                    save_best_only=True)\n",
        "]\n",
        "model.fit(X_train, y_train, validation_data=(X_test, y_val), epochs=4, callbacks=callbacks)"
      ],
      "execution_count": null,
      "outputs": [
        {
          "output_type": "stream",
          "name": "stdout",
          "text": [
            "Model: \"model\"\n",
            "_________________________________________________________________\n",
            "Layer (type)                 Output Shape              Param #   \n",
            "=================================================================\n",
            "input_1 (InputLayer)         [(None, None)]            0         \n",
            "_________________________________________________________________\n",
            "positional_embedding (Positi (None, None, 256)         2581760   \n",
            "_________________________________________________________________\n",
            "transformer_encoder (Transfo (None, None, 256)         543776    \n",
            "_________________________________________________________________\n",
            "global_max_pooling1d (Global (None, 256)               0         \n",
            "_________________________________________________________________\n",
            "dropout (Dropout)            (None, 256)               0         \n",
            "_________________________________________________________________\n",
            "dense_2 (Dense)              (None, 1)                 257       \n",
            "=================================================================\n",
            "Total params: 3,125,793\n",
            "Trainable params: 3,125,793\n",
            "Non-trainable params: 0\n",
            "_________________________________________________________________\n",
            "Epoch 1/4\n",
            "2075/2075 [==============================] - 56s 24ms/step - loss: 0.5536 - mse: 0.5536 - val_loss: 0.3881 - val_mse: 0.3881\n",
            "Epoch 2/4\n",
            "2075/2075 [==============================] - 49s 24ms/step - loss: 0.3605 - mse: 0.3605 - val_loss: 0.3835 - val_mse: 0.3835\n",
            "Epoch 3/4\n",
            "2075/2075 [==============================] - 49s 24ms/step - loss: 0.3163 - mse: 0.3163 - val_loss: 0.3654 - val_mse: 0.3654\n",
            "Epoch 4/4\n",
            "2075/2075 [==============================] - 50s 24ms/step - loss: 0.2798 - mse: 0.2798 - val_loss: 0.3981 - val_mse: 0.3981\n"
          ]
        },
        {
          "output_type": "execute_result",
          "data": {
            "text/plain": [
              "<keras.callbacks.History at 0x7f652870bc90>"
            ]
          },
          "metadata": {},
          "execution_count": 26
        }
      ]
    },
    {
      "cell_type": "code",
      "metadata": {
        "id": "rXLJb2dc5fW5"
      },
      "source": [
        "model = keras.models.load_model(\n",
        "    \"full_transformer_encoder_reglog.keras\",\n",
        "    custom_objects={\"TransformerEncoder\": TransformerEncoder,\n",
        "                    \"PositionalEmbedding\": PositionalEmbedding})"
      ],
      "execution_count": null,
      "outputs": []
    },
    {
      "cell_type": "markdown",
      "metadata": {
        "id": "Pfx_pYhuY9pZ"
      },
      "source": [
        ""
      ]
    },
    {
      "cell_type": "code",
      "metadata": {
        "id": "ruYyHQfuY99c"
      },
      "source": [
        "y_pred = model.predict(X_test)"
      ],
      "execution_count": null,
      "outputs": []
    },
    {
      "cell_type": "code",
      "metadata": {
        "colab": {
          "base_uri": "https://localhost:8080/"
        },
        "id": "6S1IB5E0Y-EG",
        "outputId": "b14663fb-e94c-4a28-dfb5-ebf73bdd38b1"
      },
      "source": [
        "from sklearn.metrics import r2_score, mean_squared_error\n",
        "\n",
        "print('R2:', r2_score(y_val, y_pred))\n",
        "print('RMSE:', mean_squared_error(y_val, y_pred, squared=False))"
      ],
      "execution_count": null,
      "outputs": [
        {
          "output_type": "stream",
          "name": "stdout",
          "text": [
            "R2: 0.6410393961822789\n",
            "RMSE: 0.6045031135732493\n"
          ]
        }
      ]
    },
    {
      "cell_type": "code",
      "metadata": {
        "colab": {
          "base_uri": "https://localhost:8080/"
        },
        "id": "59cA-OOxY-NG",
        "outputId": "b993f63c-1c35-4517-9a44-775bf0990a54"
      },
      "source": [
        "!ls"
      ],
      "execution_count": null,
      "outputs": [
        {
          "output_type": "stream",
          "name": "stdout",
          "text": [
            "drive\t\t\t\t       sample_data\n",
            "full_transformer_encoder.keras\t       transformer_encoder.keras\n",
            "full_transformer_encoder_reglog.keras\n"
          ]
        }
      ]
    },
    {
      "cell_type": "code",
      "metadata": {
        "id": "5bf091MYNgdb"
      },
      "source": [
        "embedding = model.get_layer('positional_embedding').get_weights()[0]"
      ],
      "execution_count": null,
      "outputs": []
    },
    {
      "cell_type": "code",
      "metadata": {
        "id": "gIqI345P3ptg",
        "colab": {
          "base_uri": "https://localhost:8080/"
        },
        "outputId": "4f7daa65-2c35-4373-c8c4-fcfa76f54d4a"
      },
      "source": [
        "embedding.shape"
      ],
      "execution_count": null,
      "outputs": [
        {
          "output_type": "execute_result",
          "data": {
            "text/plain": [
              "(10000, 256)"
            ]
          },
          "metadata": {},
          "execution_count": 35
        }
      ]
    },
    {
      "cell_type": "code",
      "metadata": {
        "id": "M_uuDibCeB1G"
      },
      "source": [
        "def get_clf_ready_vec(token_list): # ['A', 'B']\n",
        "  prog_tokenized = tokenizer.texts_to_sequences([token_list])[0]\n",
        "  return pad_sequences([prog_tokenized], maxlen=maxlen)"
      ],
      "execution_count": null,
      "outputs": []
    },
    {
      "cell_type": "code",
      "metadata": {
        "id": "aYCFDfxwhKlV"
      },
      "source": [
        "import random\n",
        "\n",
        "test_prog = '[ סרוגים   [B]  (V)]'\n",
        "user_id = random.choice(range(len(progs_per_HH)))\n",
        "prog_list = progs_per_HH[user_id]\n",
        "prog_tokenized = tokenizer.texts_to_sequences([prog_list])[0]\n",
        "prog_padded = pad_sequences([prog_tokenized], maxlen=maxlen)"
      ],
      "execution_count": null,
      "outputs": []
    },
    {
      "cell_type": "code",
      "metadata": {
        "colab": {
          "base_uri": "https://localhost:8080/"
        },
        "id": "zqRFOgE5hvEz",
        "outputId": "25c148ff-e713-4dab-f344-9bdd1cc83c45"
      },
      "source": [
        "model.predict(prog_padded)"
      ],
      "execution_count": null,
      "outputs": [
        {
          "output_type": "execute_result",
          "data": {
            "text/plain": [
              "array([[0.47396564]], dtype=float32)"
            ]
          },
          "metadata": {},
          "execution_count": 57
        }
      ]
    },
    {
      "cell_type": "code",
      "metadata": {
        "colab": {
          "base_uri": "https://localhost:8080/"
        },
        "id": "UYxmj-Mmhtb7",
        "outputId": "0ab905f9-91c5-4b40-ca5e-178a9e9f3b34"
      },
      "source": [
        "y[user_id]"
      ],
      "execution_count": null,
      "outputs": [
        {
          "output_type": "execute_result",
          "data": {
            "text/plain": [
              "0.7055796763529029"
            ]
          },
          "metadata": {},
          "execution_count": 58
        }
      ]
    },
    {
      "cell_type": "code",
      "metadata": {
        "id": "hmLyvdcplrWJ"
      },
      "source": [
        "# we add a prog\n",
        "prog_list.append(test_prog)"
      ],
      "execution_count": null,
      "outputs": []
    },
    {
      "cell_type": "code",
      "metadata": {
        "colab": {
          "base_uri": "https://localhost:8080/"
        },
        "id": "U_GW5NbxmBzs",
        "outputId": "70a0918e-7af8-40f0-fda4-6501df534d5c"
      },
      "source": [
        "prog_tokenized = tokenizer.texts_to_sequences([prog_list])[0]\n",
        "prog_padded = pad_sequences([prog_tokenized], maxlen=maxlen)\n",
        "np.exp(model.predict(prog_padded))"
      ],
      "execution_count": null,
      "outputs": [
        {
          "output_type": "execute_result",
          "data": {
            "text/plain": [
              "array([[3.6430902]], dtype=float32)"
            ]
          },
          "metadata": {},
          "execution_count": 49
        }
      ]
    },
    {
      "cell_type": "code",
      "metadata": {
        "id": "jvq7EeLrhHYj"
      },
      "source": [
        "\n",
        "tokenized = tokenizer.texts_to_sequences([prog_names])[0]\n"
      ],
      "execution_count": null,
      "outputs": []
    },
    {
      "cell_type": "code",
      "metadata": {
        "colab": {
          "base_uri": "https://localhost:8080/"
        },
        "id": "rgUNOifavg2r",
        "outputId": "8fbaa89a-2082-4d84-a7e8-c59c96e7ba0c"
      },
      "source": [
        "vec = get_clf_ready_vec([test_prog for _ in range(10)])\n",
        "np.exp(model.predict(vec))"
      ],
      "execution_count": null,
      "outputs": [
        {
          "output_type": "execute_result",
          "data": {
            "text/plain": [
              "array([[6.1134233]], dtype=float32)"
            ]
          },
          "metadata": {},
          "execution_count": 52
        }
      ]
    },
    {
      "cell_type": "code",
      "metadata": {
        "colab": {
          "base_uri": "https://localhost:8080/"
        },
        "id": "R0h_xOvsvxMT",
        "outputId": "def9f8d1-7714-4384-acb4-3237f0923bd8"
      },
      "source": [
        "prog_list"
      ],
      "execution_count": null,
      "outputs": [
        {
          "output_type": "execute_result",
          "data": {
            "text/plain": [
              "['[ באה בקלות (V)]',\n",
              " '[ תחנה    [B]  (V)]',\n",
              " '[ NCIS   [B]  (V)]',\n",
              " '[ ניו אמסטרדם   [B]  (V)]',\n",
              " '[ חוק וסדר פשע מאורגן  [B]  (V)]',\n",
              " '[ אףביאיי המבוקשים  [B]  (V)]',\n",
              " '[ חדשות הערב עם רומי נוימרק (L)]',\n",
              " '[ NCIS   [B] סיום [B] (V)]',\n",
              " '[ מהדורה מיוחדת עם אלמוג בוקר (L)]',\n",
              " '[ האנטומיה של גריי   [B]  (V)]',\n",
              " '[ החומה הגדולה (L)]',\n",
              " '[ באה בקלות (L)]',\n",
              " '[ האנטומיה של גריי   [B]  (V)]',\n",
              " '[ חדשות הערב  המהדורה המרכזית (L)]',\n",
              " '[ האנטומיה של גריי   [B]  (V)]',\n",
              " '[ ניו אמסטרדם   [B]  (V)]',\n",
              " '[ המגזין עם נגה ניר נאמן (L)]',\n",
              " '[ פותחים יום  שי לי ואלעד (L)]',\n",
              " '[ חדשות הערב עם רומי נוימרק (L)]',\n",
              " '[ שישי עם אילה חסון (L)]',\n",
              " '[ תכנית חיסכון (L)]',\n",
              " '[ משחקי השף (L)]',\n",
              " '[ יום מהדורה מרכזית (L)]',\n",
              " '[ המטה המרכזי עם אילה חסון (L)]',\n",
              " '[ יום מהדורה מרכזית (L)]',\n",
              " '[ מרדף בשידור חי (L)]',\n",
              " '[ משבת עד שבת (L)]',\n",
              " '[ NCIS   [B]  (V)]',\n",
              " '[ חוק וסדר פשע מאורגן  [B]  (V)]',\n",
              " '[ אףביאיי המבוקשים  [B]  (V)]',\n",
              " '[ אףביאיי המבוקשים  [B]  (V)]',\n",
              " '[ האנטומיה של גריי   [B]  (V)]',\n",
              " '[ החומה הגדולה (V)]',\n",
              " '[ תחנה    [B]  (V)]',\n",
              " '[ NCIS   [B]  (V)]',\n",
              " '[ האנטומיה של גריי   [B]  (V)]',\n",
              " '[ האנטומיה של גריי   [B]  (V)]',\n",
              " '[ ניו אמסטרדם   [B]  (V)]',\n",
              " '[ סודות מדינה (V)]',\n",
              " '[ המטה המרכזי עם אילה חסון (L)]',\n",
              " '[ המצעד המשפטי (L)]',\n",
              " '[ NCIS   [B]  (V)]',\n",
              " '[ NCIS   [B]  (V)]',\n",
              " '[ חוק וסדר פשע מאורגן  סיום [B] (V)]',\n",
              " '[ תכנית חיסכון (L)]',\n",
              " '[ חוק וסדר פשע מאורגן  [B]  (V)]',\n",
              " '[ חוק וסדר פשע מאורגן  [B]  (V)]',\n",
              " '[ NCIS   [B]  (V)]',\n",
              " '[ יום (L)]',\n",
              " '[ תחנה    [B]  (V)]',\n",
              " '[ יום (L)]',\n",
              " '[ יום מהדורה מרכזית (L)]',\n",
              " '[ משחקי השף  המתמודדים נגד השפים (L)]']"
            ]
          },
          "metadata": {},
          "execution_count": 81
        }
      ]
    },
    {
      "cell_type": "code",
      "metadata": {
        "colab": {
          "base_uri": "https://localhost:8080/"
        },
        "id": "tqiDqKOOZWR3",
        "outputId": "04e935f1-3d7e-4b69-f35b-1d59c2e6a4fe"
      },
      "source": [
        "#for each content cluster"
      ],
      "execution_count": null,
      "outputs": [
        {
          "output_type": "execute_result",
          "data": {
            "text/plain": [
              "(5000, 64)"
            ]
          },
          "metadata": {},
          "execution_count": 89
        }
      ]
    },
    {
      "cell_type": "code",
      "metadata": {
        "id": "RkUCECyTZjvT"
      },
      "source": [
        ""
      ],
      "execution_count": null,
      "outputs": []
    }
  ]
}